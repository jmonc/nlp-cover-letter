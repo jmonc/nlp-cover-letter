{
 "cells": [
  {
   "cell_type": "markdown",
   "metadata": {},
   "source": [
    "# Create a automatic cover letter generator using NLP"
   ]
  },
  {
   "cell_type": "markdown",
   "metadata": {},
   "source": [
    "#### Resources\n",
    "\n",
    "1. [Jobhero has many examples](https://www.jobhero.com/cover-letter/examples/)"
   ]
  },
  {
   "cell_type": "code",
   "execution_count": 63,
   "metadata": {},
   "outputs": [
    {
     "data": {
      "text/plain": [
       "1776"
      ]
     },
     "execution_count": 63,
     "metadata": {},
     "output_type": "execute_result"
    }
   ],
   "source": [
    "from bs4 import BeautifulSoup\n",
    "from urllib.request import urlopen, Request\n",
    "import random\n",
    "\n",
    "url = \"https://www.jobhero.com/cover-letter/examples\"\n",
    "req = Request(url, headers = {'User-Agent':'Mozilla/5.0'})\n",
    "page = urlopen(req)\n",
    "html = page.read().decode(\"utf-8\")\n",
    "soup = BeautifulSoup(html, \"html.parser\")\n",
    "job_links = soup.findAll(\"a\", class_=\"job-heading\", href = True)\n",
    "len(job_links)\n",
    "base_url =  \"https://www.jobhero.com\"\n"
   ]
  },
  {
   "cell_type": "markdown",
   "metadata": {},
   "source": [
    "This page is split into three identically named div's. First is a few examples with discription. Second div is every(?) cover letter, the third is lists the industries, which is then broken down further in each link. We only care about the second div.\n"
   ]
  },
  {
   "cell_type": "code",
   "execution_count": 66,
   "metadata": {},
   "outputs": [
    {
     "name": "stdout",
     "output_type": "stream",
     "text": [
      "34\n",
      "1646\n",
      "96\n"
     ]
    }
   ],
   "source": [
    "for i in range(3):\n",
    "    print(len((soup.findAll(\"div\", class_=\"search-job-title-box div-md\")[i]).findAll(\"a\", class_=\"job-heading\", href = True)))\n",
    "job_links = soup.findAll(\"div\", class_=\"search-job-title-box div-md\")[1].findAll(\"a\", class_=\"job-heading\", href = True)"
   ]
  },
  {
   "cell_type": "markdown",
   "metadata": {},
   "source": [
    "So 34 examples, 1646 cover letters and 96 industry groupings (on sept 13 2020).\n",
    "\n",
    "This is not a huge dataset, but with a pretrained model it might be enough to provide something."
   ]
  },
  {
   "cell_type": "code",
   "execution_count": 96,
   "metadata": {},
   "outputs": [
    {
     "data": {
      "text/plain": [
       "[<a class=\"job-heading\" href=\"/cover-letter/examples/medical/hospitalist\">Hospitalist</a>]"
      ]
     },
     "execution_count": 96,
     "metadata": {},
     "output_type": "execute_result"
    }
   ],
   "source": [
    "random.sample(job_links,1)"
   ]
  },
  {
   "cell_type": "code",
   "execution_count": 112,
   "metadata": {},
   "outputs": [
    {
     "data": {
      "text/plain": [
       "'https://www.jobhero.com/cover-letter/examples/copywriting/editor-in-chief'"
      ]
     },
     "execution_count": 112,
     "metadata": {},
     "output_type": "execute_result"
    }
   ],
   "source": [
    "sample_job_url"
   ]
  },
  {
   "cell_type": "code",
   "execution_count": 99,
   "metadata": {},
   "outputs": [],
   "source": [
    "sample_job_url = base_url + random.sample(job_links,1)[0]['href']\n",
    "req = Request(sample_job_url, headers = {'User-Agent':'Mozilla/5.0'})\n",
    "page = urlopen(req)\n",
    "html = page.read().decode(\"utf-8\")\n",
    "soup = BeautifulSoup(html, \"html.parser\")\n"
   ]
  },
  {
   "cell_type": "code",
   "execution_count": 101,
   "metadata": {},
   "outputs": [
    {
     "data": {
      "text/plain": [
       "[<h1>Editor In Chief Cover Letter</h1>]"
      ]
     },
     "execution_count": 101,
     "metadata": {},
     "output_type": "execute_result"
    }
   ],
   "source": [
    "soup.findAll(['h1','h2','h3','h4','h5']) # Find all headers"
   ]
  },
  {
   "cell_type": "code",
   "execution_count": 111,
   "metadata": {},
   "outputs": [
    {
     "data": {
      "text/plain": [
       "'<article class=\"post-201948 page type-page status-publish hentry\" id=\"post-201948\">\\n <h1>\\n  Editor In Chief Cover Letter\\n </h1>\\n <p>\\n  An editor in chief is in charge of all editorial development and publication, including editor oversight, content development and selection, and readership loyalty and growth. Responsibilities typically held in this position include leading editorial boards, identifying and pursuing content, adhering to schedules and budgets, and managing an extensive network of industry contacts. Strong abilities in communication, business, writing, and networking are all assets in this role.\\n </p>\\n <p>\\n  Cover letters for this position usually mention the following:\\n </p>\\n <ul>\\n  <li>\\n   Editor management\\n  </li>\\n  <li>\\n   Publication development and oversight\\n  </li>\\n  <li>\\n   Project schedules, budgets, and guidelines\\n  </li>\\n  <li>\\n   Content prospecting and solicitation\\n  </li>\\n  <li>\\n   Sales and marketing support\\n  </li>\\n  <li>\\n   Budget administration\\n  </li>\\n  <li>\\n   Office management\\n  </li>\\n  <li>\\n   Relationship building and management\\n  </li>\\n  <li>\\n   Subscriber growth\\n  </li>\\n </ul>\\n <p>\\n  Please find a sample cover letter for an editor in chief below detailing comparable skills and qualifications.\\n </p>\\n <p>\\n  Let employers know that you mean business, with a professional cover letter. Learn\\n  <a href=\"/career-guides/cover-letter/how-to/write/cover-letter\">\\n   how to write a cover letter\\n  </a>\\n  in our detailed guide.\\n </p>\\n <div style=\"border: 2px solid black; padding: 25px; margin: 5px;\">\\n  <p>\\n   Dear Mr. Moreno:\\n  </p>\\n  <p>\\n   Please accept the enclosed resume in response to your posting for a new editor in chief. As an accomplished and skilled editor and manager with significant experience overseeing editorial staff, managing project schedules and budgets, and cultivating and managing writer and freelancer relationships, I feel confident in my ability to vastly exceed your expectations for this role.\\n  </p>\\n  <p>\\n   My background incorporates excellent experience developing and publishing articles and features to propel sales and earn industry commendations and outstanding reviews. From developing new networking contacts and overseeing editorial boards to selecting pieces for publication and managing budgets, my contributions throughout my professional career have resulted in substantial business growth, expansion, and improved performance for reputable newspapers. With my history of publishing success, I am ready to extend my record of accomplishments with your company.\\n  </p>\\n  <p>\\n   Highlights of my experience include:\\n  </p>\\n  <ul>\\n   <li>\\n    Advancing through progressively responsible positions at the Herald Sun in Cambridge, MA, culminating in appointment as editor in chief in 2009, where I managed an editorial staff of 16 and a general staff of 45+; following this position, excelled as editor in chief for The Daily Globe and Providence Planet, respectively, in Providence, RI, managing 30+ editors and presiding over the publication of compelling, high-impact, and invigorating content\\n   </li>\\n   <li>\\n    Strategically prospecting and soliciting articles, features, and reviews for staff coverage while concurrently leading dynamic brainstorming and information-sharing editorial team meetings\\n   </li>\\n   <li>\\n    Skillfully managing newspapers’ social media accounts – specifically Facebook and Twitter – to maintain an engaged and loyal reader base\\n   </li>\\n   <li>\\n    Building a collaborative and friendly office environment, maintaining outstanding relationships with both freelancers and internal staff to propel productivity and work ethic\\n   </li>\\n   <li>\\n    Developing trusting and lasting relationships with writers, peers, publication management teams, and freelancers through hard work, integrity, a positive attitude, and a collaborative spirit\\n   </li>\\n  </ul>\\n  <p>\\n   With my talent, experience, and achievements, I believe I am uniquely qualified to significantly benefit your team and contribute to your publication’s success. I look forward to discussing my qualifications in detail. Thank you for your time and consideration.\\n  </p>\\n  <p>\\n   Sincerely,\\n  </p>\\n  <p>\\n   Emily M. Hood\\n  </p>\\n </div>\\n <div style=\"padding-top:5px;padding-bottom:5px;\">\\n  <div class=\"horizontal-banner\">\\n   <div class=\"adamantium\" id=\"div-gpt-ad-1564074941101-0\" style=\"width: 728px; height: 90px;margin:0 auto;\">\\n    <script>\\n     if(!checkIsMobile()) {\\n    googletag.cmd.push(function() { googletag.display(\\'div-gpt-ad-1564074941101-0\\'); });\\n}\\n    </script>\\n   </div>\\n  </div>\\n </div>\\n</article>\\n'"
      ]
     },
     "execution_count": 111,
     "metadata": {},
     "output_type": "execute_result"
    }
   ],
   "source": [
    "(soup.findAll('article')[0]).prettify()   "
   ]
  },
  {
   "cell_type": "code",
   "execution_count": null,
   "metadata": {},
   "outputs": [],
   "source": [
    "<article class=\"post-201948 page type-page status-publish hentry\" id=\"post-201948\"><"
   ]
  },
  {
   "cell_type": "code",
   "execution_count": 102,
   "metadata": {},
   "outputs": [
    {
     "name": "stdout",
     "output_type": "stream",
     "text": [
      "<!DOCTYPE html>\n",
      " <!--[if IE 7]><html class=\"ie ie7\" lang=\"en-US\"> <![endif]--> <!--[if IE 8]><html class=\"ie ie8\" lang=\"en-US\"> <![endif]--> <!--[if !(IE 7) & !(IE 8)]><!--><html lang=\"en-US\"> <!--<![endif]--><head><meta charset=\"utf-8\"/><meta content=\"width=device-width\" name=\"viewport\"/><meta content=\"757afe9fc8598c1e86cf61d7896a3de9284e8473764fcd41b67eaeb0d39435f7\" name=\"ahrefs-site-verification\"/><title>Editor In Chief Cover Letter - JobHero</title> <script src=\"/../js/head-custom.js\"></script> <link as=\"style\" href=\"https://www.jobhero.com/webpages/css/ccpa.css\" rel=\"preload\"/><link href=\"https://www.jobhero.com/cover-letter/examples/copywriting/editor-in-chief\" rel=\"canonical\"><link href=\"https://fonts.googleapis.com/css?family=Open+Sans:300,400,700&amp;display=swap\" rel=\"stylesheet\"/><link href=\"/favicon.png\" rel=\"shortcut icon\" type=\"image/x-icon\"/><link href=\"https://gmpg.org/xfn/11\" rel=\"profile\"> <!--[if lt IE 9]> <script src=\"https://www.jobhero.com/resources/wp-content/themes/twentytwelve/js/html5.js\" type=\"text/javascript\"></script> <![endif]--> <script>function fvmuag(){if(navigator.userAgent.match(/x11.*fox\\/54|oid\\s4.*xus.*ome\\/62|oobot|ighth|tmetr|eadles|ingdo/i))return!1;if(navigator.userAgent.match(/x11.*ome\\/75\\.0\\.3770\\.100/i)){var e=screen.width,t=screen.height;if(\"number\"==typeof e&&\"number\"==typeof t&&862==t&&1367==e)return!1}return!0}</script> <meta content=\"Let JobHero help you craft a head-turning editor in chief cover letter. We've got the content tips, sample letters, and templates you need for success.\" name=\"description\"><meta content=\"index, follow\" name=\"robots\"/><meta content=\"index, follow, max-snippet:-1, max-image-preview:large, max-video-preview:-1\" name=\"googlebot\"/><meta content=\"index, follow, max-snippet:-1, max-image-preview:large, max-video-preview:-1\" name=\"bingbot\"/><meta content=\"en_US\" property=\"og:locale\"/><meta content=\"article\" property=\"og:type\"/><meta content=\"Editor In Chief Cover Letter - JobHero\" property=\"og:title\"/><meta content=\"Let JobHero help you craft a head-turning editor in chief cover letter. We've got the content tips, sample letters, and templates you need for success.\" property=\"og:description\"/><meta content=\"https://www.jobhero.com/cover-letter/examples/copywriting/editor-in-chief\" property=\"og:url\"/><meta content=\"JobHero\" property=\"og:site_name\"/><meta content=\"2018-03-20T13:25:19+00:00\" property=\"article:modified_time\"/><meta content=\"summary_large_image\" name=\"twitter:card\"/> <script class=\"yoast-schema-graph\" type=\"application/ld+json\">{\"@context\":\"https://schema.org\",\"@graph\":[{\"@type\":\"WebSite\",\"@id\":\"https://www.jobhero.com/#website\",\"url\":\"https://www.jobhero.com/\",\"name\":\"JobHero\",\"description\":\"\",\"potentialAction\":[{\"@type\":\"SearchAction\",\"target\":\"https://www.jobhero.com/?s={search_term_string}\",\"query-input\":\"required name=search_term_string\"}],\"inLanguage\":\"en-US\"},{\"@type\":\"WebPage\",\"@id\":\"https://www.jobhero.com/cover-letter/examples/copywriting/editor-in-chief#webpage\",\"url\":\"https://www.jobhero.com/cover-letter/examples/copywriting/editor-in-chief\",\"name\":\"Editor In Chief Cover Letter - JobHero\",\"isPartOf\":{\"@id\":\"https://www.jobhero.com/#website\"},\"datePublished\":\"2018-03-15T16:49:14+00:00\",\"dateModified\":\"2018-03-20T13:25:19+00:00\",\"description\":\"Let JobHero help you craft a head-turning editor in chief cover letter. We've got the content tips, sample letters, and templates you need for success.\",\"inLanguage\":\"en-US\",\"potentialAction\":[{\"@type\":\"ReadAction\",\"target\":[\"https://www.jobhero.com/cover-letter/examples/copywriting/editor-in-chief\"]}]}]}</script> <!--[if lt IE 9]><link rel='stylesheet' id='twentytwelve-ie-css'  href='https://www.jobhero.com/resources/wp-content/themes/twentytwelve/css/ie.css' type='text/css' media='all' /> <![endif]--><link href=\"https://www.jobhero.com/resources/../webpages/css/all.css\" id=\"all-css-css\" media=\"all\" rel=\"stylesheet\" type=\"text/css\"><link href=\"https://www.jobhero.com/resources/wp-content/uploads/cache/fvm/1598848881/out/header-0a5f3a3b5253283c66205a6e79c4af0274fead1d.min.css\" id=\"fvm-header-1-css\" media=\"all\" rel=\"stylesheet\" type=\"text/css\"/><link href=\"https://www.jobhero.com/wp-json/\" rel=\"https://api.w.org/\"/><link href=\"https://www.jobhero.com/wp-json/wp/v2/pages/201948\" rel=\"alternate\" type=\"application/json\"/><link href=\"https://www.jobhero.com/wp-json/oembed/1.0/embed?url=https%3A%2F%2Fwww.jobhero.com%2Fcover-letter%2Fexamples%2Fcopywriting%2Feditor-in-chief\" rel=\"alternate\" type=\"application/json+oembed\"/><link href=\"https://www.jobhero.com/wp-json/oembed/1.0/embed?url=https%3A%2F%2Fwww.jobhero.com%2Fcover-letter%2Fexamples%2Fcopywriting%2Feditor-in-chief&amp;format=xml\" rel=\"alternate\" type=\"text/xml+oembed\"/> <script type=\"text/javascript\">window.addEventListener(\"load\", function() {\n",
      "\t\t\tloadScript(\"head\",\"https://www.jobhero.com/visitor/tracking-v7.js\", function() {\n",
      "\t\t\t\tTS.Track(\"\", \"JBH\", false, false, true);\n",
      "\t\t\t});\n",
      "\t\t});</script> <script type=\"text/javascript\">var y = Math.floor((Math.random() * 10) + 1);var x = y % 5;if (x == 0){\n",
      "                    var new_relic = document.createElement('script');\n",
      "                    new_relic.src = \"/js/new_relic.js\";\n",
      "                    (document.head).appendChild(new_relic);\n",
      "                }</script> <script>//var $ = jQuery.noConflict();</script> <script>// google tag manager data\n",
      "\t\twindow.dataLayer = window.dataLayer || [];</script> <script defer=\"\" src=\"https://www.googletagmanager.com/gtag/js?id=UA-1121859-35\"></script> <script defer=\"\">var WPGAvsuid = '';\n",
      "            var WPGAInterval = setInterval(function () {\n",
      "                WPGAvsuid = readCookieVal('vsuid');\n",
      "                if(WPGAvsuid) {\n",
      "                    clearInterval(WPGAInterval);\n",
      "                    window.dataLayer = window.dataLayer || [];\n",
      "                    function gtag(){dataLayer.push(arguments);}\n",
      "                    gtag('js', new Date());\n",
      "                    gtag('set', 'dimension5', WPGAvsuid);\n",
      "                    gtag('config', 'UA-1121859-35');\n",
      "                }\n",
      "            }, 50);</script> <script>var googletag = googletag || {};\n",
      "  googletag.cmd = googletag.cmd || [];</script> <script>googletag.cmd.push(function() {\n",
      "                  if(!checkIsMobile()) {\n",
      "                                                            googletag.defineSlot('/74779441/jobhero_cover_letters_728x90', [728, 90], 'div-gpt-ad-1561653435086-0').addService(googletag.pubads());\n",
      "                                                                        googletag.defineSlot('/74779441/jobhero_body_mid_728x90', [728, 90], 'div-gpt-ad-1558717635395-0').addService(googletag.pubads());\n",
      "                \t\t\t\t   \n",
      "                     googletag.defineSlot('/74779441/jobhero_cover_letters_bottom_728x90', [728, 90], 'div-gpt-ad-1564074941101-0').addService(googletag.pubads());\n",
      "\t\t\t\t\t googletag.defineSlot('/74779441/jobhero_cl_upper_728x90', [728, 90], 'div-gpt-ad-1584996389141-0').addService(googletag.pubads());    \n",
      "\t\t\t\t\t googletag.defineSlot('/74779441/jobhero_cl_lower_728x90', [728, 90], 'div-gpt-ad-1584997135872-0').addService(googletag.pubads());\n",
      "                             }\n",
      "            if(checkIsMobile()) {\n",
      "                                     googletag.defineSlot('/74779441/jobhero_cover_letters_320x50', [320, 50], 'div-gpt-ad-1562086740874-0').addService(googletag.pubads());\n",
      "                            }\n",
      "          googletag.pubads().enableSingleRequest();\n",
      "    googletag.pubads().collapseEmptyDivs();\n",
      "    googletag.enableServices();\n",
      "  });</script> <style>.async-hide { opacity: 0 !important}</style> </link></meta></link></link></head><body class=\"page-template page-template-page-templates page-template-full-width page-template-page-templatesfull-width-php page page-id-201948 page-child parent-pageid-962730 full-width\"><div id=\"wrapper\"> <style type=\"text/css\">.jh-submenu{ position: relative; } .jh-submenu .arrow-right{ border: solid #00c08e; border-width: 0 1px 1px 0; display: inline-block; padding: 3px; transform: rotate(-45deg); -webkit-transform: rotate(-45deg); } .jh-submenu:hover .listing{ display: block; border: 2px solid #00c08e; } .topnav a.submenu-links{ display: flex; align-items: center; justify-content: space-between; cursor: pointer; } .listing{ position: absolute; display: none; top: -2px; left: 187px; width: 200px; } section .menu nav a.ml-30{ margin-left: 30px; }</style><header id=\"header\"><div class=\"w1\"> <a class=\"logo\" href=\"/\"><strong>Job</strong>Hero</a><div class=\"topnav\" id=\"myTopnav\"><div class=\"dropdown\"> <a class=\"blk-dropdown\" href=\"/resume\">Resumes</a> <i class=\"fa fa-caret-down\"></i><div class=\"dropdown-content\"> <a href=\"/resume/builder\">Resume Builder</a> <a href=\"/resume/templates\">Resume Templates</a> <a href=\"/resume/examples\">Resume Examples</a><div class=\"jh-submenu\"> <a class=\"submenu-links\" href=\"/resume/format\"> <span>Resume Formats</span><i class=\"arrow-right\"></i> </a><ul class=\"listing\"><li> <a href=\"/resume/format/hybrid\"> Hybrid Resume </a></li><li> <a href=\"/resume/format/functional\"> Functional Resume </a></li><li> <a href=\"/resume/format/chronological\"> Chronological Resume </a></li></ul></div> <a href=\"/career-guides/resume/how-to/write/resume\">How to Write a Resume</a><div class=\"jh-submenu\"> <a class=\"submenu-links\" href=\"/career-guides/resume/objectives\"> <span>Resume Objectives</span><i class=\"arrow-right\"></i> </a><ul class=\"listing\"><li> <a href=\"/cv\"> CV </a></li></ul></div></div></div><div class=\"dropdown\"> <a class=\"blk-dropdown\" href=\"/cover-letter\">Cover Letters</a> <i class=\"fa fa-caret-down\"></i><div class=\"dropdown-content\"> <a href=\"/cover-letter/builder\">Cover Letter Builder</a> <a href=\"/cover-letter/templates\">Cover Letter Templates</a> <a href=\"/cover-letter/examples\">Cover Letter Samples</a> <a href=\"/cover-letter/format\">Cover Letter Formats</a> <a href=\"/career-guides/cover-letter/how-to/write/cover-letter\">How to Write a Cover Letter</a></div></div> <a href=\"/job-description\">Job Overviews</a><div class=\"dropdown\"> <span class=\"blk-dropdown\">Resources</span> <i class=\"fa fa-caret-down\"></i><div class=\"dropdown-content\"> <a href=\"/career-guides\">Career Guides</a> <a href=\"/career-guides/careers/planning/how-to-become\">How to Become</a></div></div><a href=\"/build-resume\" rel=\"nofollow\">Resume Builder</a> <a href=\"/signin\" rel=\"nofollow\">Login|Signup</a> <form action=\"/search\" class=\"search-form\"> <button class=\"btn-search\" type=\"submit\"></button><div class=\"input-holder\"> <input autocomplete=\"off\" class=\"ui-autocomplete-input\" data-url=\"/resumes/autocompleteSearch\" id=\"title_top\" placeholder=\"SEARCH BY JOB TITLE\" type=\"text\"/></div><div class=\"autocomplete-holder\"><ul class=\"ui-autocomplete ui-front ui-menu ui-widget ui-widget-content header-autocomplete\" id=\"ui-id-1\" style=\"display: none;\" tabindex=\"0\"></ul></div><div class=\"error-text\"></div></form></div> <div class=\"alvaedison\"> <section class=\"container\"> <input autocomplete=\"off\" id=\"menuBtn\" type=\"checkbox\"/> <label class=\"menu__button\" for=\"menuBtn\"></label><div class=\"menu\"><div class=\"menu__container\"> <label class=\"menu__close\" for=\"menuBtn\"></label> <nav> <a class=\"blk-dropdown\" href=\"/resume\">Resumes</a> <a class=\"suby\" href=\"/resume/builder\">Resume Builder</a> <a class=\"suby\" href=\"/resume/templates\">Resume Templates</a> <a class=\"suby\" href=\"/resume/examples\">Resume Examples</a> <a class=\"suby\" href=\"/resume/format\">Resume Formats</a> <a class=\"suby ml-30\" href=\"/resume/format/hybrid\">Hybrid Resume</a> <a class=\"suby ml-30\" href=\"/resume/format/functional\">Functional Resume</a> <a class=\"suby ml-30\" href=\"/resume/format/chronological\">Chronological Resume</a> <a class=\"suby\" href=\"/career-guides/resume/how-to/write/resume\">How to Write a Resume</a> <a class=\"suby\" href=\"/career-guides/resume/objectives\">Resume Objectives</a> <a class=\"suby ml-30\" href=\"/cv\">CV</a> <a class=\"blk-dropdown\" href=\"/cover-letter\">Cover Letters</a> <a class=\"suby\" href=\"/cover-letter/builder\">Cover Letter Builder</a> <a class=\"suby\" href=\"/cover-letter/templates\">Cover Letter Templates</a> <a class=\"suby\" href=\"/cover-letter/examples\">Cover Letter Samples</a> <a class=\"suby\" href=\"/cover-letter/format\">Cover Letter Formats</a> <a class=\"suby\" href=\"/career-guides/cover-letter/how-to/write/cover-letter\">How to Write a Cover Letter</a> <a href=\"/job-description\">Job Overviews</a> <span class=\"blk-dropdown\">Resources</span> <a class=\"suby\" href=\"/career-guides\">Career Guides</a> <a class=\"suby\" href=\"/career-guides/careers/planning/how-to-become\">How to Become</a> <a href=\"/build-resume\" rel=\"nofollow\">Resume Builder</a> <a href=\"/signin\" rel=\"nofollow\">Login|Signup</a> </nav> <a class=\"logoy\" href=\"/\"><strong>Job</strong>Hero</a></div></div> </section></div> </div> </header> <div class=\"redcape\"></div> <script>/* Toggle between adding and removing the \"responsive\" class to topnav when the user clicks on the icon */\n",
      "function myFunction() {\n",
      "  var x = document.getElementById(\"myTopnav\");\n",
      "  if (x.className === \"topnav\") {\n",
      "    x.className += \" responsive\";\n",
      "  } else {\n",
      "    x.className = \"topnav\";\n",
      "  }\n",
      "}</script> <div class=\"w1\"> <div class=\"breadcrumb-main\"><div class=\"inner\"><ul class=\"breadcrumbs\"><li><a class=\"home-link\" href=\"/\"></a></li><li><a class=\"post post-page\" href=\"https://www.jobhero.com/cover-letter\" property=\"v:title\" rel=\"v:url\" title=\"Go to Cover Letter.\">Cover Letter</a></li><li><a class=\"post post-page\" href=\"https://www.jobhero.com/cover-letter/examples\" property=\"v:title\" rel=\"v:url\" title=\"Go to Examples.\">Examples</a></li><li><a class=\"post post-page\" href=\"https://www.jobhero.com/cover-letter/examples/copywriting\" property=\"v:title\" rel=\"v:url\" title=\"Go to copywriting.\">copywriting</a></li><li><span property=\"v:title\">editor in chief</span></li></ul><div class=\"gray-section-sub-cta\"> <a href=\"/build-letter\" rel=\"nofollow\"><div class=\"button-cta-jukebox\">Build Your Cover Letter</div></a></div></div></div><div id=\"main\"> <div class=\"comments-area\" id=\"comments\"></div> <article class=\"post-201948 page type-page status-publish hentry\" id=\"post-201948\"><h1>Editor In Chief Cover Letter</h1> <p>An editor in chief is in charge of all editorial development and publication, including editor oversight, content development and selection, and readership loyalty and growth. Responsibilities typically held in this position include leading editorial boards, identifying and pursuing content, adhering to schedules and budgets, and managing an extensive network of industry contacts. Strong abilities in communication, business, writing, and networking are all assets in this role.</p><p>Cover letters for this position usually mention the following:</p><ul><li>Editor management</li><li>Publication development and oversight</li><li>Project schedules, budgets, and guidelines</li><li>Content prospecting and solicitation</li><li>Sales and marketing support</li><li>Budget administration</li><li>Office management</li><li>Relationship building and management</li><li>Subscriber growth</li></ul><p>Please find a sample cover letter for an editor in chief below detailing comparable skills and qualifications.</p><p>Let employers know that you mean business, with a professional cover letter. Learn <a href=\"/career-guides/cover-letter/how-to/write/cover-letter\">how to write a cover letter</a> in our detailed guide.</p><div style=\"border: 2px solid black; padding: 25px; margin: 5px;\"><p>Dear Mr. Moreno:</p><p>Please accept the enclosed resume in response to your posting for a new editor in chief. As an accomplished and skilled editor and manager with significant experience overseeing editorial staff, managing project schedules and budgets, and cultivating and managing writer and freelancer relationships, I feel confident in my ability to vastly exceed your expectations for this role.</p><p>My background incorporates excellent experience developing and publishing articles and features to propel sales and earn industry commendations and outstanding reviews. From developing new networking contacts and overseeing editorial boards to selecting pieces for publication and managing budgets, my contributions throughout my professional career have resulted in substantial business growth, expansion, and improved performance for reputable newspapers. With my history of publishing success, I am ready to extend my record of accomplishments with your company.</p><p>Highlights of my experience include:</p><ul><li>Advancing through progressively responsible positions at the Herald Sun in Cambridge, MA, culminating in appointment as editor in chief in 2009, where I managed an editorial staff of 16 and a general staff of 45+; following this position, excelled as editor in chief for The Daily Globe and Providence Planet, respectively, in Providence, RI, managing 30+ editors and presiding over the publication of compelling, high-impact, and invigorating content</li><li>Strategically prospecting and soliciting articles, features, and reviews for staff coverage while concurrently leading dynamic brainstorming and information-sharing editorial team meetings</li><li>Skillfully managing newspapers’ social media accounts – specifically Facebook and Twitter – to maintain an engaged and loyal reader base</li><li>Building a collaborative and friendly office environment, maintaining outstanding relationships with both freelancers and internal staff to propel productivity and work ethic</li><li>Developing trusting and lasting relationships with writers, peers, publication management teams, and freelancers through hard work, integrity, a positive attitude, and a collaborative spirit</li></ul><p>With my talent, experience, and achievements, I believe I am uniquely qualified to significantly benefit your team and contribute to your publication’s success. I look forward to discussing my qualifications in detail. Thank you for your time and consideration.</p><p>Sincerely,</p><p>Emily M. Hood</p></div> <div style=\"padding-top:5px;padding-bottom:5px;\"><div class=\"horizontal-banner\"><div class=\"adamantium\" id=\"div-gpt-ad-1564074941101-0\" style=\"width: 728px; height: 90px;margin:0 auto;\"> <script>if(!checkIsMobile()) {\n",
      "    googletag.cmd.push(function() { googletag.display('div-gpt-ad-1564074941101-0'); });\n",
      "}</script> </div></div></div> </article><div class=\"resume-box\"> <strong>Your Cover Letter, Made Easy.</strong><div class=\"resume-table\"><div><p>You are looking for your dream job and need a cover letter? My Perfect Cover Letter is your solution and takes the hassle out of cover letter writing. Create the perfect job-worthy cover letter effortlessly in just a few clicks!</p></div><div class=\"form-cell\"> <a href=\"/build-letter\"><button class=\"btn\">Build your Cover Letter</button></a></div></div></div><style>.big-moma{ background-color: #00c48a; padding: 40px; margin: 0 auto; max-width: 969px; } .big-moma>h4{ color: #ffffff; font-family: \"Open Sans\"; font-size: 28px; letter-spacing: -0.09px; } .resume-widget-colors{ margin: 0 auto; background-color: white; max-width: 889px; position: relative; padding: 20px 40px; height: 587px; border-radius: 10px; box-shadow: 0px 0px 10px 0px rgba(0, 0, 0, 0.3); } .resume-widget-colors h4{ font-weight: bold; } #thunder{ background-repeat: no-repeat; background-size: cover; width: 100%; height: 100%; } .chamaleon{ width: 370px;height: 470px; border: 1px solid #e3e3e3; position: absolute; right: 40px; top: 60px; } .chamaleon h4{ margin-top:-40px; } input#clean[type=\"Radio\"]:checked~.chamaleon #thunder{ background-image: url(/resources/wp-content/uploads/2019/06/clean-combo.png);} input#modern[type=\"Radio\"]:checked~.chamaleon #thunder{ background-image: url(/resources/wp-content/uploads/2019/06/modern-combo-white.png);} input#creative[type=\"Radio\"]:checked~.chamaleon #thunder{ background-image: url(/resources/wp-content/uploads/2019/06/creative-combo.png);} input#default[type=\"Radio\"]:checked~.chamaleon{ background-color:#424b51;} input#red[type=\"Radio\"]:checked~.chamaleon{ background-color:#cc3d33;} input#blue[type=\"Radio\"]:checked~.chamaleon{ background-color:#4899df;} input#green[type=\"Radio\"]:checked~.chamaleon{ background-color:#75cabf;} input#navy[type=\"Radio\"]:checked~.chamaleon{ background-color:#2e54a5;} input#sand[type=\"Radio\"]:checked~.chamaleon{ background-color:#c6b895;} input#gold[type=\"Radio\"]:checked~.chamaleon{ background-color:#e6b54a;} input#pink[type=\"Radio\"]:checked~.chamaleon{ background-color:#f39580;} input#gray[type=\"Radio\"]:checked~.chamaleon{ background-color:#6e7f8d;} label.redbtn {background-color: #cc3d33;} label.bluebtn {background-color: #4899df;} label.greenbtn {background-color: #75cabf;} label.graybtn {background-color: #6e7f8d;} label.sandbtn {background-color: #c6b895;} label.pinkbtn {background-color: #f39580;} label.goldbtn {background-color: #e6b54a;} label.navybtn {background-color: #2e54a5;} label.defaultbtn {border: 1px solid #e3e3e3;position: relative;} label.squarebtn.defaultbtn:after { width: 126px; height: 47px; border-bottom: 1px solid #e3e3e3; -webkit-transform: rotate(31deg); position: absolute; top: -10px; left: 5px; content: ''; } .squarebtn{ width: 113px; height: 70px; display: block; border-radius: 6px; cursor: pointer; } .resume-widget-colors input[type=\"radio\"] { visibility: hidden; display: none; } .mongo{ border: 1px solid #e3e3e3; width: 123px; padding: 4px; display: inline-block; } .mongo:hover { border-color: #00c48a; } .mon-cl,.mon-mo,.mon-cr{ display: inline-table; color: #e3e3e3; font-size: 18px; font-weight: 600; } .mon-cl label,.mon-mo label,.mon-cr label{ display: table-cell; vertical-align: middle; text-align: center; } input#creative[type=\"Radio\"]:checked~.mon-cr,input#modern[type=\"Radio\"]:checked~.mon-mo,input#clean[type=\"Radio\"]:checked~.mon-cl{ border-color:#00c48a;font-weight: 700;color: #000; } input#default[type=\"Radio\"]:checked~.mon-de,input#red[type=\"Radio\"]:checked~.mon-re,input#blue[type=\"Radio\"]:checked~.mon-bl,input#green[type=\"Radio\"]:checked~.mon-gr, input#navy[type=\"Radio\"]:checked~.mon-na,input#sand[type=\"Radio\"]:checked~.mon-sa,input#gold[type=\"Radio\"]:checked~.mon-go,input#pink[type=\"Radio\"]:checked~.mon-pi,input#gray[type=\"Radio\"]:checked~.mon-gr{ border-color:#00c48a; }</style><div class=\"big-moma\" style=\"display:none;\"> <strong>PICK YOUR RESUME</strong><div class=\"resume-widget-colors\"> <strong>Theme</strong> <input checked=\"checked\" id=\"clean\" name=\"zelda\" type=\"radio\" value=\"clean\"/><div class=\"mongo mon-cl\"><label class=\"squarebtn cleanbtn\" for=\"clean\">Clean</label></div> <input id=\"modern\" name=\"zelda\" type=\"radio\" value=\"modern\"/><div class=\"mongo mon-mo\"><label class=\"squarebtn modernbtn\" for=\"modern\">Modern</label></div> <input id=\"creative\" name=\"zelda\" type=\"radio\" value=\"creative\"/><div class=\"mongo mon-cr\"><label class=\"squarebtn creativebtn\" for=\"creative\">Creative</label></div><strong>Color</strong><input checked=\"checked\" id=\"default\" name=\"format\" type=\"radio\" value=\"default\"/><div class=\"mongo mon-de\"><label class=\"squarebtn defaultbtn\" for=\"default\"></label></div> <input id=\"gray\" name=\"format\" type=\"radio\" value=\"gray\"/><div class=\"mongo mon-gr\"><label class=\"squarebtn graybtn\" for=\"gray\"></label></div> <input id=\"sand\" name=\"format\" type=\"radio\" value=\"sand\"/><div class=\"mongo mon-sa\"><label class=\"squarebtn sandbtn\" for=\"sand\"></label></div> <br/> <input id=\"navy\" name=\"format\" type=\"radio\" value=\"navy\"/><div class=\"mongo mon-na\"><label class=\"squarebtn navybtn\" for=\"navy\"></label></div> <input id=\"blue\" name=\"format\" type=\"radio\" value=\"blue\"/><div class=\"mongo mon-bl\"><label class=\"squarebtn bluebtn\" for=\"blue\"></label></div> <input id=\"green\" name=\"format\" type=\"radio\" value=\"green\"/><div class=\"mongo mon-gr\"><label class=\"squarebtn greenbtn\" for=\"green\"></label></div> <br/> <input id=\"red\" name=\"format\" type=\"radio\" value=\"red\"/><div class=\"mongo mon-re\"><label class=\"squarebtn redbtn\" for=\"red\"></label></div> <input id=\"pink\" name=\"format\" type=\"radio\" value=\"pink\"/><div class=\"mongo mon-pi\"><label class=\"squarebtn pinkbtn\" for=\"pink\"></label></div> <input id=\"gold\" name=\"format\" type=\"radio\" value=\"gold\"/><div class=\"mongo mon-go\"><label class=\"squarebtn goldbtn\" for=\"gold\"></label></div> <br/><div class=\"chamaleon\"> <strong>Example</strong><div id=\"thunder\"></div></div></div></div></div></div></div><div class=\"toparrow\" id=\"scrollUp1\"></div> <footer class=\"footer-jh\"><div class=\"footer-cont\"><div class=\"flex-d\"><ul class=\"footer-ul\"><li class=\"footer-li\"> <a class=\"footer-logo\" href=\"/\"> <strong>JOB</strong>HERO </a></li><li class=\"footer-li\"> <a class=\"footer-a\" href=\"/about-us\"> About Us </a></li><li class=\"footer-li\"> <a class=\"footer-a\" href=\"/contact-us\"> Contact Us </a></li><li class=\"footer-li\"> <a class=\"footer-a\" href=\"/terms-conditions-use\"> Terms and Conditions of Use </a></li><li class=\"footer-li\"> <a class=\"footer-a\" href=\"/privacy-policy\"> Privacy Policy </a></li><li class=\"footer-li\"> <a class=\"footer-a\" href=\"/cookies-tracking-technologies-policy\"> Cookies and Tracking Technologies Policy </a></li><li class=\"footer-li\"> <a class=\"footer-a\" href=\"/sitemap\"> Sitemap </a></li></ul><ul class=\"footer-ul\"><li class=\"footer-li\"> <a class=\"footer-head no-event\"> RESUMES </a></li><li class=\"footer-li\"> <a class=\"footer-a\" href=\"/career-guides/resume/how-to/write/resume\"> How to Write a Resume </a></li><li class=\"footer-li\"> <a class=\"footer-a\" href=\"/resume/format\"> Resume Formats </a></li><li class=\"footer-li\"> <a class=\"footer-a\" href=\"/career-guides/resume/objectives\"> Resume Objectives </a></li><li class=\"footer-li\"> <a class=\"footer-a\" href=\"/resume/examples\"> Resume Examples </a></li></ul><ul class=\"footer-ul\"><li class=\"footer-li\"> <a class=\"footer-head no-event\"> COVER LETTERS </a></li><li class=\"footer-li\"> <a class=\"footer-a\" href=\"/career-guides/cover-letter/how-to/write/cover-letter\"> How to Write a Cover Letter </a></li><li class=\"footer-li\"> <a class=\"footer-a\" href=\"/cover-letter/examples\"> Cover Letter Examples </a></li></ul><ul class=\"footer-ul\"><li class=\"footer-li\"> <a class=\"footer-head no-event\"> RESOURCES </a></li><li class=\"footer-li\"> <a class=\"footer-a\" href=\"/career-guides\"> Career Guides </a></li><li class=\"footer-li\"> <a class=\"footer-a\" href=\"/career-guides/careers/planning/how-to-become\"> How to Become </a></li><li class=\"footer-li\"> <a class=\"footer-a\" href=\"/job-description\"> Job Overviews </a></li></ul></div><div class=\"copy-right\"> © 2020 Job Hero Limited. All rights reserved.</div></div> </footer> <script>window.addEventListener(\"load\", function() {\t\t\t\n",
      "        var temp_menu_item;\n",
      "        var oneTime = -1;\n",
      "        window.addEventListener('scroll', function() {\n",
      "            if (document.body.scrollTop > 400 || document.documentElement.scrollTop > 400){\n",
      "        //if ($(window).scrollTop() > 400) {\n",
      "                if(oneTime == 1 || oneTime == -1){\n",
      "                    oneTime = 0;\n",
      "                    document.getElementById(\"scrollUp1\").style.opacity = \"1\";\n",
      "                    document.getElementById(\"scrollUp1\").style.pointerEvents  = \"auto\";\n",
      "                    //$(\"#scrollUp1\").css(\"opacity\", \"1\");\n",
      "                    //$(\"#scrollUp1\").css(\"pointer-events\", \"auto\");\n",
      "                }\n",
      "            }\n",
      "            else{\n",
      "                if(oneTime == 0 || oneTime == -1){\n",
      "                    oneTime = 1;\n",
      "                    document.getElementById(\"scrollUp1\").style.opacity = \"0\";\n",
      "                    document.getElementById(\"scrollUp1\").style.pointerEvents  = \"none\";\n",
      "                    //$(\"#scrollUp1\").css(\"opacity\", \"0\");\n",
      "                    //$(\"#scrollUp1\").css(\"pointer-events\", \"none\");\n",
      "                }\n",
      "            }\n",
      "        }); \n",
      "        \n",
      "        \n",
      "        var toparrow = document.querySelectorAll(\".toparrow\");\n",
      "        toparrow[0].addEventListener(\"click\", function(e) {\n",
      "            $('html, body').animate({scrollTop: 0}, 800);\n",
      "            window.scrollTo({ top: 0, left: 0, behavior: 'smooth' });\n",
      "        });\n",
      "       var popupToHide = document.querySelectorAll(\"#closeSticky\"); \n",
      "            if(popupToHide.length > 0){\n",
      "            popupToHide[0].addEventListener(\"click\", function(e) {\n",
      "                document.getElementById('sticky-footer').style.display = 'none';\n",
      "                });\n",
      "            }\n",
      "        // $('.toparrow').click(function() {\n",
      "        //         $('html, body').animate({scrollTop: 0}, 800);\n",
      "        //         window.scrollTo({ top: 0, left: 0, behavior: 'smooth' });\n",
      "        //     });\n",
      "        //$('#closeSticky').on('click', function() {$('#sticky-footer').hide();});\n",
      "    \n",
      "});\n",
      "    \n",
      "//COST-4156  start for covid banner \n",
      "//COST-4156  end</script> <style>/*Close Sticky Ad*/ .closesticky{ position: absolute; width: 28px; height: 28px; top: -28px; right: 0; background-size: 13px 13px; background-position: 9px; background-color: #fff; background-repeat: no-repeat; box-shadow: 0 -1px 1px 0 rgba(0,0,0,0.2); border: none; border-radius: 12px 0 0 0; } #sticky-footer { display: none; }</style><div id=\"sticky-footer\"> <div id=\"div-gpt-ad-1562086740874-0\" style=\"height:50px; width:320px;margin:0 auto;\"> <script>if(checkIsMobile()) {\n",
      "                        googletag.cmd.push(function() { googletag.display('div-gpt-ad-1562086740874-0'); });\n",
      "                    }</script> </div> <button aria-label=\"Close this ad\" class=\"closesticky\" id=\"closeSticky\">X</button></div><div style=\"padding-bottom:0px;\"><center></center></div><script defer=\"\" id=\"fvm-footer-0-js\" src=\"https://www.jobhero.com/resources/wp-content/uploads/cache/fvm/1598848881/out/footer-9546dd5e7c97f0929f193255187cda8886eb29d6.min.js\" type=\"text/javascript\"></script> </body></html> <script>var isShown = 0;\n",
      "var isCssEmbedded = 0;\n",
      "var isowlEmbedded = 0;\n",
      "var iskkStarjs_Embedded = 0;\n",
      "var is_autocom_Embedded = 0;\n",
      "var isIncluded = 0;\n",
      "var ispp1_left_navEmbedded = 0;\n",
      "window.addEventListener(\"load\", function(){\n",
      "            var d = document;\n",
      "            \n",
      "            if(checkIsMobile()) {\n",
      "\t\t\t\t                var segmentServer = document.createElement('script');\n",
      "                    segmentServer.src = \"/js/switchSegment.js\";\n",
      "                    segmentServer.setAttribute('defer', \"\");\n",
      "                    (document.body).appendChild(segmentServer);\n",
      "                d.onscroll = function(){\n",
      "                    if(isShown == 0) {\n",
      "                        document.getElementById('sticky-footer').style.display = \"block\";\n",
      "                        var gpt = d.createElement('script');\n",
      "                        gpt.src = \"https://www.googletagservices.com/tag/js/gpt.js\";\n",
      "                        gpt.setAttribute('async', \"true\");\n",
      "                        (d.body).appendChild(gpt);\n",
      "                        isShown = 1;\n",
      "                    }  \n",
      "                if(isIncluded == 0) {\t\n",
      "                isIncluded = 1;\n",
      "                if(typeof jQuery=='undefined') {\n",
      "               \n",
      "                loadScript(\"head\",\"/../webpages/js/jquery-3.5.1.min.js\", function () {    \n",
      "               \n",
      "                    \n",
      "                    \n",
      "                \n",
      "\n",
      "                \n",
      "                \n",
      "                \n",
      "                                \n",
      "\n",
      "                \n",
      "                                                      \n",
      "                    \t\t\t\t\n",
      "                    \n",
      "\t\t\t\t\t}); \n",
      "                           \n",
      "                        }\n",
      "                    }\n",
      "                };\n",
      "                 \n",
      "            } else {\n",
      "                var gpt = d.createElement('script');\n",
      "                gpt.src = \"https://www.googletagservices.com/tag/js/gpt.js\";\n",
      "                gpt.setAttribute('async', \"true\");\n",
      "                (d.body).appendChild(gpt);\n",
      "                loadScript(\"head\",\"/../webpages/js/jquery-3.5.1.min.js\", function () {\n",
      "                var segmentClient = document.createElement('script');\n",
      "                    segmentClient.src = \"/js/switchSegmentClient.js\";\n",
      "                    segmentClient.setAttribute('defer', \"\");\n",
      "                    (document.body).appendChild(segmentClient);\n",
      "                    \n",
      "                \n",
      "\n",
      "                \n",
      "                \n",
      "                \n",
      "                                \n",
      "\n",
      "                \n",
      "                \n",
      "                                    loadScript(\"body\",\"/../js/jquery-ui.min.js\", function () {\n",
      "                        loadScript(\"body\",\"/../js/autocomplete.custom.js\", function () {\n",
      "                            initJtAutocomplete($('#title_top'), 'header-autocomplete');\n",
      "                            initJtAutocomplete($('#title'));\n",
      "                        });\n",
      "                    });\n",
      "                    \t\t\t\t                    \t\t\t\t\t\n",
      "                            }); \n",
      "                            \n",
      "            }\n",
      "            \n",
      "                                     \n",
      "                            CCPA_FLAG = 'on';\n",
      "        \n",
      "        var request = new XMLHttpRequest();\n",
      "        request.open(\"GET\", \"/resources/wp-content/ajax-call/ccpa.php?action=getCountryInfo\", true);\n",
      "        request.send();\n",
      "        request.onload = function () {\n",
      "            var output = request.responseText;\n",
      "            var obj = JSON.parse(output);\n",
      "            if (obj.isEUUser == 1) {\n",
      "                if (window.location.pathname == '/contact-us') {\n",
      "                        document.getElementById('gdpr_compliance_link').style.display = \"block\";\n",
      "                    }\n",
      "                if (readCookieVal('consent')) {} else {\n",
      "                    var element = document.createElement(\"link\");\n",
      "                    element.setAttribute(\"rel\", \"stylesheet\");\n",
      "                    element.setAttribute(\"type\", \"text/css\");\n",
      "                    element.setAttribute(\"href\", \"/webpages/css/gdpr.css\");\n",
      "                    document.getElementsByTagName(\"head\")[0].appendChild(element);\n",
      "                    loadScript(\"body\", \"/webpages/js/gdpr.js\", function () {\n",
      "                        gdpr_banner_call(obj.isEUUser);\n",
      "                    });\n",
      "                }\n",
      "            } else if (obj.isUsUser == 1) {\n",
      "            if (window.location.pathname == '/contact-us') {\n",
      "                    document.getElementById('ccpa_compliance_link').style.display = \"block\";\n",
      "                }\n",
      "                if (readCookieVal('ccpaconsent')) {} else {\n",
      "                   // if (plang == 'en-US') {\n",
      "                        var element = document.createElement(\"link\");\n",
      "                        element.setAttribute(\"rel\", \"stylesheet\");\n",
      "                        element.setAttribute(\"type\", \"text/css\");\n",
      "                        element.setAttribute(\"defer\", \"true\");\n",
      "                        element.setAttribute(\"href\", \"/webpages/css/ccpa.css\");\n",
      "                        document.getElementsByTagName(\"head\")[0].appendChild(element);\n",
      "                        loadScript(\"body\", \"/webpages/js/ccpa.js\", function () {\n",
      "                            ccpa_banner_call(obj.isUSUser);\n",
      "                        });\n",
      "                    //}\n",
      "                }\n",
      "            } else {\n",
      "            }\n",
      "        };\n",
      "                        \n",
      "}); \n",
      "\n",
      "//COST-4156  start for covid banner \n",
      "//COST-4156  end</script> \n"
     ]
    }
   ],
   "source": [
    "print(soup)"
   ]
  }
 ],
 "metadata": {
  "kernelspec": {
   "display_name": "TensorFlow",
   "language": "python",
   "name": "tensorflow"
  },
  "language_info": {
   "codemirror_mode": {
    "name": "ipython",
    "version": 3
   },
   "file_extension": ".py",
   "mimetype": "text/x-python",
   "name": "python",
   "nbconvert_exporter": "python",
   "pygments_lexer": "ipython3",
   "version": "3.7.4"
  }
 },
 "nbformat": 4,
 "nbformat_minor": 4
}
